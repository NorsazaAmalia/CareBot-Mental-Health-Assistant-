{
  "nbformat": 4,
  "nbformat_minor": 0,
  "metadata": {
    "colab": {
      "name": "fuzzy.ipynb",
      "provenance": []
    },
    "kernelspec": {
      "name": "python3",
      "display_name": "Python 3"
    },
    "language_info": {
      "name": "python"
    }
  },
  "cells": [
    {
      "cell_type": "code",
      "source": [
        "!pip install scikit-fuzzy"
      ],
      "metadata": {
        "colab": {
          "base_uri": "https://localhost:8080/"
        },
        "id": "UVTAlvy9CwG9",
        "outputId": "1870b231-1b6b-4ee2-c3a2-d583ecbe355a"
      },
      "execution_count": 5,
      "outputs": [
        {
          "output_type": "stream",
          "name": "stdout",
          "text": [
            "Looking in indexes: https://pypi.org/simple, https://us-python.pkg.dev/colab-wheels/public/simple/\n",
            "Collecting scikit-fuzzy\n",
            "  Downloading scikit-fuzzy-0.4.2.tar.gz (993 kB)\n",
            "\u001b[K     |████████████████████████████████| 993 kB 5.1 MB/s \n",
            "\u001b[?25hRequirement already satisfied: numpy>=1.6.0 in /usr/local/lib/python3.7/dist-packages (from scikit-fuzzy) (1.21.6)\n",
            "Requirement already satisfied: scipy>=0.9.0 in /usr/local/lib/python3.7/dist-packages (from scikit-fuzzy) (1.4.1)\n",
            "Requirement already satisfied: networkx>=1.9.0 in /usr/local/lib/python3.7/dist-packages (from scikit-fuzzy) (2.6.3)\n",
            "Building wheels for collected packages: scikit-fuzzy\n",
            "  Building wheel for scikit-fuzzy (setup.py) ... \u001b[?25l\u001b[?25hdone\n",
            "  Created wheel for scikit-fuzzy: filename=scikit_fuzzy-0.4.2-py3-none-any.whl size=894089 sha256=bed958bb32a5b9b583190561d2c11233e81e6eedb442a315aa8243ecf66263e0\n",
            "  Stored in directory: /root/.cache/pip/wheels/d5/74/fc/38588a3d2e3f34f74588e6daa3aa5b0a322bd6f9420a707131\n",
            "Successfully built scikit-fuzzy\n",
            "Installing collected packages: scikit-fuzzy\n",
            "Successfully installed scikit-fuzzy-0.4.2\n"
          ]
        }
      ]
    },
    {
      "cell_type": "code",
      "execution_count": 6,
      "metadata": {
        "id": "9KeEOq1TCZhr"
      },
      "outputs": [],
      "source": [
        "import skfuzzy as fuzzy\n",
        "from skfuzzy import control\n",
        "import numpy as np\n",
        "import itertools \n",
        "from itertools import permutations\n",
        "from sqlalchemy import null\n",
        "from tqdm import tqdm"
      ]
    },
    {
      "cell_type": "code",
      "source": [
        "anx_rls = list()\n",
        "anx_list = list()\n",
        "str_list = list()\n",
        "dep_list = list()\n",
        "inputs = ['NA', 'SOT','GOT', 'MOT']\n",
        "comb = list(permutations(inputs))\n",
        "len(comb)\n",
        "c = list(itertools.product(inputs,inputs,inputs,inputs,inputs, inputs,inputs))\n",
        "x = 0\n",
        "z = 0\n",
        "lisZ = list()\n",
        "total = 0\n",
        "for i in c:\n",
        "  for y in i:\n",
        "    if y == 'NA':\n",
        "      total = total + 0\n",
        "    elif y == 'SOT':\n",
        "      total = total + 1\n",
        "    elif y == 'GOT':\n",
        "      total = total + 2\n",
        "    elif y == 'MOT':\n",
        "      total = total + 3\n",
        "  lisZ.append(total*2)\n",
        "  total = 0"
      ],
      "metadata": {
        "id": "EzaUxaekClAy"
      },
      "execution_count": 7,
      "outputs": []
    },
    {
      "cell_type": "code",
      "source": [
        "for x in lisZ:\n",
        "  if x >= 0 and x <= 7:\n",
        "    anx_list.append(\"Normal\")\n",
        "  elif x >= 8 and x <=9:\n",
        "    anx_list.append(\"Mild\")\n",
        "  elif x >= 10 and x <=14:\n",
        "    anx_list.append(\"Moderate\")\n",
        "  elif x >= 15 and x <=19:\n",
        "    anx_list.append(\"Severe\")\n",
        "  else:\n",
        "    anx_list.append(\"Very Severe\")\n",
        "\n",
        "  if x >= 0 and x <= 14:\n",
        "    str_list.append(\"Normal\")\n",
        "  elif x >= 15 and x <=18:\n",
        "    str_list.append(\"Mild\")\n",
        "  elif x >= 19 and x <=25:\n",
        "    str_list.append(\"Moderate\")\n",
        "  elif x >= 26 and x <=33:\n",
        "    str_list.append(\"Severe\")\n",
        "  else:\n",
        "    str_list.append(\"Very Severe\")\n",
        "\n",
        "  if x >= 0 and x <= 9:\n",
        "    dep_list.append(\"Normal\")\n",
        "  elif x >= 10 and x <=13:\n",
        "    dep_list.append(\"Mild\")\n",
        "  elif x >= 14 and x <=20:\n",
        "    dep_list.append(\"Moderate\")\n",
        "  elif x >= 21 and x <=27:\n",
        "    dep_list.append(\"Severe\")\n",
        "  else:\n",
        "    dep_list.append(\"Very Severe\")"
      ],
      "metadata": {
        "id": "FWUN-xBdaWFr"
      },
      "execution_count": 8,
      "outputs": []
    },
    {
      "cell_type": "code",
      "source": [
        "print('number of rules is',len(c),len(anx_list),len(str_list),len(dep_list))"
      ],
      "metadata": {
        "colab": {
          "base_uri": "https://localhost:8080/"
        },
        "id": "9AOit6Mnadl1",
        "outputId": "6e2089b6-8bff-4463-b261-1cfe32c17ccb"
      },
      "execution_count": 9,
      "outputs": [
        {
          "output_type": "stream",
          "name": "stdout",
          "text": [
            "number of rules is 16384 16384 16384 16384\n"
          ]
        }
      ]
    },
    {
      "cell_type": "code",
      "source": [
        "p1 = control.Antecedent(np.arange(0, 9, 1), 'p1')\n",
        "p2 = control.Antecedent(np.arange(0, 9, 1), 'p2')\n",
        "p3 = control.Antecedent(np.arange(0, 9, 1), 'p3')\n",
        "p4 = control.Antecedent(np.arange(0, 9, 1), 'p4')\n",
        "p5 = control.Antecedent(np.arange(0, 9, 1), 'p5')\n",
        "p6 = control.Antecedent(np.arange(0, 9, 1), 'p6')\n",
        "p7 = control.Antecedent(np.arange(0, 9, 1), 'p7')\n",
        "\n",
        "z = control.Consequent(np.arange(0, 11, 1), 'z')"
      ],
      "metadata": {
        "id": "T4wHILWhaiqF"
      },
      "execution_count": 10,
      "outputs": []
    },
    {
      "cell_type": "code",
      "source": [
        "p1['NA'] = fuzzy.trimf(p1.universe, [0, 1, 2])\n",
        "p1['SOT'] = fuzzy.trimf(p1.universe, [2, 3, 4])\n",
        "p1['GOT'] = fuzzy.trimf(p1.universe, [4, 5, 6])\n",
        "p1['MOT'] = fuzzy.trimf(p1.universe, [6, 7, 8])\n",
        "\n",
        "p2['NA'] = fuzzy.trimf(p2.universe, [0, 1, 2])\n",
        "p2['SOT'] = fuzzy.trimf(p2.universe, [2, 3, 4])\n",
        "p2['GOT'] = fuzzy.trimf(p2.universe, [4, 5, 6])\n",
        "p2['MOT'] = fuzzy.trimf(p2.universe, [6, 7, 8])\n",
        "\n",
        "p3['NA'] = fuzzy.trimf(p3.universe, [0, 1, 2])\n",
        "p3['SOT'] = fuzzy.trimf(p3.universe, [2, 3, 4])\n",
        "p3['GOT'] = fuzzy.trimf(p3.universe, [4, 5, 6])\n",
        "p3['MOT'] = fuzzy.trimf(p4.universe, [6, 7, 8])\n",
        "\n",
        "p4['NA'] = fuzzy.trimf(p4.universe, [0, 1, 2])\n",
        "p4['SOT'] = fuzzy.trimf(p4.universe, [2, 3, 4])\n",
        "p4['GOT'] = fuzzy.trimf(p4.universe, [4, 5, 6])\n",
        "p4['MOT'] = fuzzy.trimf(p4.universe, [6, 7, 8])\n",
        "\n",
        "p5['NA'] = fuzzy.trimf(p5.universe, [0, 1, 2])\n",
        "p5['SOT'] = fuzzy.trimf(p5.universe, [2, 3, 4])\n",
        "p5['GOT'] = fuzzy.trimf(p5.universe, [4, 5, 6])\n",
        "p5['MOT'] = fuzzy.trimf(p5.universe, [6, 7, 8])\n",
        "\n",
        "p6['NA'] = fuzzy.trimf(p6.universe, [0, 1, 2])\n",
        "p6['SOT'] = fuzzy.trimf(p6.universe, [2, 3, 4])\n",
        "p6['GOT'] = fuzzy.trimf(p6.universe, [4, 5, 6])\n",
        "p6['MOT'] = fuzzy.trimf(p6.universe, [6, 7, 8])\n",
        "\n",
        "p7['NA'] = fuzzy.trimf(p7.universe, [0, 1, 2])\n",
        "p7['SOT'] = fuzzy.trimf(p7.universe, [2, 3, 4])\n",
        "p7['GOT'] = fuzzy.trimf(p7.universe, [4, 5, 6])\n",
        "p7['MOT'] = fuzzy.trimf(p7.universe, [6, 7, 8])\n",
        "\n",
        "z['Normal'] = fuzzy.trimf(z.universe, [0, 1, 2])\n",
        "z['Mild'] = fuzzy.trimf(z.universe, [2, 3, 4])\n",
        "z['Moderate'] = fuzzy.trimf(z.universe, [4, 5, 6])\n",
        "z['Severe'] = fuzzy.trimf(z.universe, [6, 7, 8])\n",
        "z['Very Severe'] = fuzzy.trimf(z.universe, [8, 9, 10])"
      ],
      "metadata": {
        "id": "FEsTaFKrauLL"
      },
      "execution_count": 11,
      "outputs": []
    },
    {
      "cell_type": "code",
      "source": [
        "count = 0\n",
        "all_anx_rls = list()\n",
        "all_str_rls = list()\n",
        "all_dep_rls = list()\n",
        "anx_rls = list()\n",
        "str_rls = list()\n",
        "dep_rls = list()\n",
        "anx_perf_calc = list()\n",
        "str_perf_calc = list()\n",
        "dep_perf_calc = list()\n",
        "while (count <16384):   \n",
        "  anx_result = control.Rule(p1[c[count][0]] & p2[c[count][1]] & p3[c[count][2]] & p4[c[count][3]] & p5[c[count][4]]& p6[c[count][5]] & p7[c[count][6]], z[anx_list[count]])\n",
        "  str_result = control.Rule(p1[c[count][0]] & p2[c[count][1]] & p3[c[count][2]] & p4[c[count][3]] & p5[c[count][4]]& p6[c[count][5]] & p7[c[count][6]], z[str_list[count]])\n",
        "  dep_result = control.Rule(p1[c[count][0]] & p2[c[count][1]] & p3[c[count][2]] & p4[c[count][3]] & p5[c[count][4]]& p6[c[count][5]] & p7[c[count][6]], z[dep_list[count]])\n",
        "  \n",
        "  if(count < 2):\n",
        "    anx_rls.append(anx_result)\n",
        "    str_rls.append(str_result)\n",
        "    dep_rls.append(dep_result)\n",
        "  elif (count <16384):\n",
        "    if(count%2 == 0):      \n",
        "      all_anx_rls.append(anx_rls)\n",
        "      all_str_rls.append(str_rls)\n",
        "      all_dep_rls.append(dep_rls)\n",
        "      anx_rls = list()\n",
        "      str_rls = list()\n",
        "      dep_rls = list()\n",
        "    anx_rls.append(anx_result)\n",
        "    str_rls.append(str_result)\n",
        "    dep_rls.append(dep_result)\n",
        "  count = count + 1"
      ],
      "metadata": {
        "id": "H1bKJ8zIa8W0"
      },
      "execution_count": 12,
      "outputs": []
    },
    {
      "cell_type": "code",
      "source": [
        "if(count == 16384):\n",
        "  print(\"DONE CREATING RULES...\")\n",
        "  all_anx_rls.append(anx_rls)\n",
        "  all_str_rls.append(str_rls)\n",
        "  all_dep_rls.append(dep_rls)\n",
        "  anx_rls = list()\n",
        "  str_rls = list()\n",
        "  dep_rls = list()\n",
        "  anx_rls.append(anx_result)\n",
        "  str_rls.append(str_result)\n",
        "  dep_rls.append(dep_result)\n",
        "\n",
        "\n",
        "anx_fuzz = list()\n",
        "str_fuzz = list()\n",
        "dep_fuzz = list()\n",
        "\n",
        "\n",
        "print(\"APPLYING STRESS RULES...\")\n",
        "for x in tqdm(all_str_rls):\n",
        "  str_perf_calc.append(control.ControlSystem(x))\n",
        "\n",
        "print(\"APPLYING ANXIETY RULES...\")\n",
        "for x in tqdm(all_anx_rls):\n",
        "  anx_perf_calc.append(control.ControlSystem(x))\n",
        "\n",
        "print(\"APPLYING DEPRESSION RULES...\")\n",
        "for x in tqdm(all_dep_rls):\n",
        "  dep_perf_calc.append(control.ControlSystem(x))\n",
        "\n",
        "print(\"DONE CONTROL SYSTEM\")\n",
        "for p in tqdm(str_perf_calc):\n",
        "  str_fuzz.append(control.ControlSystemSimulation(p))\n",
        "\n",
        "for p in tqdm(anx_perf_calc):\n",
        "  anx_fuzz.append(control.ControlSystemSimulation(p))\n",
        "\n",
        "for p in tqdm(dep_perf_calc):\n",
        "  dep_fuzz.append(control.ControlSystemSimulation(p))\n",
        "print(\"DONE SYSTEM SIMULATION\") "
      ],
      "metadata": {
        "colab": {
          "base_uri": "https://localhost:8080/"
        },
        "id": "s9nDu1fabGfe",
        "outputId": "602d7617-6e81-425c-b9ef-cea190fd63a0"
      },
      "execution_count": 13,
      "outputs": [
        {
          "output_type": "stream",
          "name": "stdout",
          "text": [
            "DONE CREATING RULES...\n",
            "APPLYING STRESS RULES...\n"
          ]
        },
        {
          "output_type": "stream",
          "name": "stderr",
          "text": [
            "100%|██████████| 8192/8192 [00:38<00:00, 212.08it/s]\n"
          ]
        },
        {
          "output_type": "stream",
          "name": "stdout",
          "text": [
            "APPLYING ANXIETY RULES...\n"
          ]
        },
        {
          "output_type": "stream",
          "name": "stderr",
          "text": [
            "100%|██████████| 8192/8192 [00:41<00:00, 197.65it/s]\n"
          ]
        },
        {
          "output_type": "stream",
          "name": "stdout",
          "text": [
            "APPLYING DEPRESSION RULES...\n"
          ]
        },
        {
          "output_type": "stream",
          "name": "stderr",
          "text": [
            "100%|██████████| 8192/8192 [00:38<00:00, 214.98it/s]\n"
          ]
        },
        {
          "output_type": "stream",
          "name": "stdout",
          "text": [
            "DONE CONTROL SYSTEM\n"
          ]
        },
        {
          "output_type": "stream",
          "name": "stderr",
          "text": [
            "100%|██████████| 8192/8192 [00:00<00:00, 26042.87it/s]\n",
            "100%|██████████| 8192/8192 [00:00<00:00, 25186.93it/s]\n",
            "100%|██████████| 8192/8192 [00:00<00:00, 25630.65it/s]"
          ]
        },
        {
          "output_type": "stream",
          "name": "stdout",
          "text": [
            "DONE SYSTEM SIMULATION\n"
          ]
        },
        {
          "output_type": "stream",
          "name": "stderr",
          "text": [
            "\n"
          ]
        }
      ]
    },
    {
      "cell_type": "code",
      "source": [
        "def fuzzyInput(x1,x2,x3,x4,x5,x6,x7,test):\n",
        "  i = 0\n",
        "  d = null\n",
        "  while i < 8192:\n",
        "    try:\n",
        "      \n",
        "      if(test == \"stress\"):\n",
        "        str_fuzz[i].input['p1'] = x1\n",
        "        str_fuzz[i].input['p2'] = x2\n",
        "        str_fuzz[i].input['p3'] = x3\n",
        "        str_fuzz[i].input['p4'] = x4\n",
        "        str_fuzz[i].input['p5'] = x5\n",
        "        str_fuzz[i].input['p6'] = x6\n",
        "        str_fuzz[i].input['p7'] = x7\n",
        "\n",
        "        str_fuzz[i].compute()\n",
        "        d = str_fuzz[i].output\n",
        "\n",
        "      elif(test == \"anxiety\"):\n",
        "        anx_fuzz[i].input['p1'] = x1\n",
        "        anx_fuzz[i].input['p2'] = x2\n",
        "        anx_fuzz[i].input['p3'] = x3\n",
        "        anx_fuzz[i].input['p4'] = x4\n",
        "        anx_fuzz[i].input['p5'] = x5\n",
        "        anx_fuzz[i].input['p6'] = x6\n",
        "        anx_fuzz[i].input['p7'] = x7\n",
        "\n",
        "        anx_fuzz[i].compute()\n",
        "        d = anx_fuzz[i].output\n",
        "      elif(test == \"depression\"):\n",
        "        dep_fuzz[i].input['p1'] = x1\n",
        "        dep_fuzz[i].input['p2'] = x2\n",
        "        dep_fuzz[i].input['p3'] = x3\n",
        "        dep_fuzz[i].input['p4'] = x4\n",
        "        dep_fuzz[i].input['p5'] = x5\n",
        "        dep_fuzz[i].input['p6'] = x6\n",
        "        dep_fuzz[i].input['p7'] = x7\n",
        "\n",
        "        dep_fuzz[i].compute()\n",
        "        d = dep_fuzz[i].output\n",
        "    except:\n",
        "      i+=1\n",
        "    else:\n",
        "      print(\"found in\", i)      \n",
        "      break\n",
        "\n",
        "  return d"
      ],
      "metadata": {
        "id": "i337xehQbnhg"
      },
      "execution_count": 14,
      "outputs": []
    },
    {
      "cell_type": "code",
      "source": [
        "def defuzz(x):\n",
        "  if x == 1:\n",
        "    return \"Normal\"\n",
        "  elif x == 3:\n",
        "    return \"Mild\"\n",
        "  elif x == 5:\n",
        "    return \"Moderate\"\n",
        "  elif x == 7:\n",
        "    return \"Severe\"\n",
        "  else:\n",
        "    return \"Very Severe\""
      ],
      "metadata": {
        "id": "oHXctkRUbo4X"
      },
      "execution_count": 15,
      "outputs": []
    }
  ]
}